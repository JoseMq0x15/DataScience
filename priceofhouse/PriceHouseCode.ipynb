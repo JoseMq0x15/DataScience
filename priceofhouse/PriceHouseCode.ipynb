{
 "cells": [
  {
   "cell_type": "code",
   "execution_count": null,
   "metadata": {},
   "outputs": [],
   "source": [
    "#hello"
   ]
  }
 ],
 "metadata": {
  "kernelspec": {
   "display_name": "Python 3.10.5 64-bit",
   "language": "python",
   "name": "python3"
  },
  "language_info": {
   "name": "python",
   "version": "3.10.5"
  },
  "orig_nbformat": 4,
  "vscode": {
   "interpreter": {
    "hash": "0e6339478e3f311aa650441242a7385e4706002219ddcfdcf643f76677172759"
   }
  }
 },
 "nbformat": 4,
 "nbformat_minor": 2
}
